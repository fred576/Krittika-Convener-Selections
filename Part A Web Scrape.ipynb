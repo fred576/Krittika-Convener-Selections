{
 "cells": [
  {
   "cell_type": "code",
   "execution_count": 10,
   "metadata": {},
   "outputs": [],
   "source": [
    "import requests\n",
    "from bs4 import BeautifulSoup"
   ]
  },
  {
   "cell_type": "code",
   "execution_count": 2,
   "metadata": {},
   "outputs": [],
   "source": [
    "url = \"https://krittikaiitb.github.io/team/\"\n",
    "page = requests.get(url)"
   ]
  },
  {
   "cell_type": "code",
   "execution_count": 32,
   "metadata": {},
   "outputs": [],
   "source": [
    "soup = BeautifulSoup(page.content, \"html.parser\")"
   ]
  },
  {
   "cell_type": "code",
   "execution_count": 33,
   "metadata": {},
   "outputs": [],
   "source": [
    "data = []\n",
    "\n",
    "years = soup.find_all(\"div\", class_=\"tab-pane fade p-3 show active\")\n",
    "for year in years:\n",
    "    cards = year.find_all(\"div\", class_=\"card border-0 shadow bg-light\")\n",
    "    curryearcard = year.find(\"p\", class_=\"display-4 pt-4 pb-4 text-center\")\n",
    "    curryear = curryearcard.text.strip(\"Team \")\n",
    "    for card in cards:\n",
    "        name = card.find(\"h5\", class_=\"card-title mb-0\")\n",
    "        designation = card.find(\"p\", class_=\"card-text\")\n",
    "        data.append([name.text.strip(), designation.text.strip(), curryear])"
   ]
  },
  {
   "cell_type": "code",
   "execution_count": 34,
   "metadata": {},
   "outputs": [],
   "source": [
    "import csv"
   ]
  },
  {
   "cell_type": "code",
   "execution_count": 35,
   "metadata": {},
   "outputs": [],
   "source": [
    "header = [\"name\", \"designation\", \"year\"]\n",
    "\n",
    "with open('Krittika Teams.csv', 'w', encoding='UTF8', newline='') as file:\n",
    "    writer = csv.writer(file)\n",
    "    writer.writerow(header)\n",
    "    writer.writerows(data)"
   ]
  }
 ],
 "metadata": {
  "kernelspec": {
   "display_name": "Python 3",
   "language": "python",
   "name": "python3"
  },
  "language_info": {
   "codemirror_mode": {
    "name": "ipython",
    "version": 3
   },
   "file_extension": ".py",
   "mimetype": "text/x-python",
   "name": "python",
   "nbconvert_exporter": "python",
   "pygments_lexer": "ipython3",
   "version": "3.11.3"
  },
  "orig_nbformat": 4
 },
 "nbformat": 4,
 "nbformat_minor": 2
}
